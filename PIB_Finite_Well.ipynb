{
  "nbformat": 4,
  "nbformat_minor": 0,
  "metadata": {
    "colab": {
      "provenance": [],
      "authorship_tag": "ABX9TyO7iAK1QFk+Wakx0LzEejvG",
      "include_colab_link": true
    },
    "kernelspec": {
      "name": "python3",
      "display_name": "Python 3"
    },
    "language_info": {
      "name": "python"
    }
  },
  "cells": [
    {
      "cell_type": "markdown",
      "metadata": {
        "id": "view-in-github",
        "colab_type": "text"
      },
      "source": [
        "<a href=\"https://colab.research.google.com/github/pmpatel-udallas/PIB/blob/main/PIB_Finite_Well.ipynb\" target=\"_parent\"><img src=\"https://colab.research.google.com/assets/colab-badge.svg\" alt=\"Open In Colab\"/></a>"
      ]
    },
    {
      "cell_type": "code",
      "execution_count": 372,
      "metadata": {
        "id": "URGztDovrb2h"
      },
      "outputs": [],
      "source": [
        "import numpy as np\n",
        "import pandas as pd\n",
        "import matplotlib.pyplot as plt\n",
        "from scipy.optimize import fsolve"
      ]
    },
    {
      "cell_type": "code",
      "source": [
        "# Define constants\n",
        "eV2J=1.60e-19 #J\n",
        "h=6.62606957e-34 #J*s\n",
        "hbar= h/(2*np.pi)\n",
        "me=9.11e-31 #kg"
      ],
      "metadata": {
        "id": "YhuKKUVrrsM0"
      },
      "execution_count": 288,
      "outputs": []
    },
    {
      "cell_type": "code",
      "source": [
        "# Define parameters\n",
        "V0 = 10 #eV\n",
        "Lnm= 1.112 #nm\n",
        "L=Lnm*1e-9 #m"
      ],
      "metadata": {
        "id": "t1ZbPDICspwX"
      },
      "execution_count": 457,
      "outputs": []
    },
    {
      "cell_type": "code",
      "source": [
        "def f(Ei,V0):\n",
        "  '''Ei is in eV'''\n",
        "  E=Ei*eV2J\n",
        "  V=V0*eV2J\n",
        "  a=2*np.sqrt(E*(V-E))\n",
        "  b=2*E-V\n",
        "  return a/b\n",
        "\n",
        "def g(Ei):\n",
        "  '''Ei is in eV'''\n",
        "  E=Ei*eV2J\n",
        "  a=2*me*E*(L**2)\n",
        "  b= hbar**2\n",
        "  c=np.sqrt(a/b)\n",
        "  return np.tan(c)\n",
        "\n",
        "def j(x):\n",
        "  return f(x,V0=V0)-g(x)\n",
        "\n",
        "def E_pib(n):\n",
        "  return (n**2)*(h**2)/(8*me*(L**2)*eV2J)\n",
        "\n",
        "def wavelength(a,b):\n",
        "  return h*2.998e8/((a-b)*eV2J)*1e9\n",
        "\n",
        "def intersections(X2,Y2,Z2):\n",
        "  roots_idx = np.argwhere(np.diff(np.sign(Y2-Z2)) != 0).flatten()\n",
        "  Xint = X2[roots_idx]\n",
        "  return Xint[1::2]"
      ],
      "metadata": {
        "id": "snfelzF2r9G_"
      },
      "execution_count": 458,
      "outputs": []
    },
    {
      "cell_type": "code",
      "source": [
        "V0=50\n",
        "X= np.linspace(0.005,V0, 10000)\n",
        "Y= f(X,V0)\n",
        "Z= g(X)\n",
        "\n",
        "# Filter the data to remove values approaching the asymptote\n",
        "X2=X[np.abs(Z)<V0]\n",
        "Y2=Y[np.abs(Z)<V0]\n",
        "Z2=Z[np.abs(Z)<V0]"
      ],
      "metadata": {
        "colab": {
          "base_uri": "https://localhost:8080/"
        },
        "id": "aORFZftys5Ap",
        "outputId": "37a80115-7f14-4431-864e-69571ce62f45"
      },
      "execution_count": 465,
      "outputs": [
        {
          "output_type": "stream",
          "name": "stderr",
          "text": [
            "<ipython-input-458-b3811a9961f8>:7: RuntimeWarning: divide by zero encountered in divide\n",
            "  return a/b\n"
          ]
        }
      ]
    },
    {
      "cell_type": "code",
      "source": [
        "# Initial Guesses for the fsolve function\n",
        "intersections(X2,Y2,Z2).round(3)"
      ],
      "metadata": {
        "colab": {
          "base_uri": "https://localhost:8080/"
        },
        "id": "xHaSdGDILW0F",
        "outputId": "9784a22d-60c2-48c0-b5c1-24ff326ca62e"
      },
      "execution_count": 466,
      "outputs": [
        {
          "output_type": "execute_result",
          "data": {
            "text/plain": [
              "array([ 0.275,  1.105,  2.485,  4.415,  6.89 ,  9.91 , 13.475, 17.565,\n",
              "       22.185, 27.31 , 32.915, 38.955, 45.305])"
            ]
          },
          "metadata": {},
          "execution_count": 466
        }
      ]
    },
    {
      "cell_type": "code",
      "source": [
        "# Use the intersection of the difference as the guess for the roots\n",
        "Xint = fsolve(j,intersections(X2,Y2,Z2))\n",
        "\n",
        "# Energy levels of the finite well in eV\n",
        "Xint.round(3)"
      ],
      "metadata": {
        "colab": {
          "base_uri": "https://localhost:8080/"
        },
        "id": "yYN0l7yqIahw",
        "outputId": "34dffe2c-4dac-482a-b48b-263309f42f73"
      },
      "execution_count": 467,
      "outputs": [
        {
          "output_type": "execute_result",
          "data": {
            "text/plain": [
              "array([ 0.276,  1.105,  2.485,  4.415,  6.893,  9.914, 13.475, 17.569,\n",
              "       22.186, 27.31 , 32.917, 38.959, 45.307])"
            ]
          },
          "metadata": {},
          "execution_count": 467
        }
      ]
    },
    {
      "cell_type": "code",
      "source": [
        "# Calculate the wavelength of the first excitation\n",
        "wavelength(Xint[-1],Xint[-2])"
      ],
      "metadata": {
        "colab": {
          "base_uri": "https://localhost:8080/"
        },
        "id": "ahQixGD4Gg6T",
        "outputId": "eae1b86d-65b7-4b04-8d08-9cf8a402f414"
      },
      "execution_count": 468,
      "outputs": [
        {
          "output_type": "execute_result",
          "data": {
            "text/plain": [
              "195.58034104058143"
            ]
          },
          "metadata": {},
          "execution_count": 468
        }
      ]
    },
    {
      "cell_type": "code",
      "source": [
        "# Calculate the wavelength of the first excitation\n",
        "wavelength(Xint[6],Xint[5])"
      ],
      "metadata": {
        "colab": {
          "base_uri": "https://localhost:8080/"
        },
        "id": "geMlNaT7LyOV",
        "outputId": "7bad7b32-22ee-4667-8a34-d354a4010e09"
      },
      "execution_count": 470,
      "outputs": [
        {
          "output_type": "execute_result",
          "data": {
            "text/plain": [
              "348.649844310428"
            ]
          },
          "metadata": {},
          "execution_count": 470
        }
      ]
    },
    {
      "cell_type": "code",
      "source": [],
      "metadata": {
        "id": "u-0f57s6OSDz"
      },
      "execution_count": null,
      "outputs": []
    }
  ]
}